{
 "cells": [
  {
   "cell_type": "code",
   "execution_count": 41,
   "id": "060d3fbf",
   "metadata": {},
   "outputs": [],
   "source": [
    "import pandas as pd\n",
    "import numpy as np\n",
    "import torch\n",
    "import torch.nn.functional as F\n",
    "import torch_geometric.nn as pyg_nn\n",
    "from torch_geometric.data import Data, DataLoader\n"
   ]
  },
  {
   "cell_type": "code",
   "execution_count": 42,
   "id": "5c3a4a47",
   "metadata": {},
   "outputs": [],
   "source": [
    "# Loading data\n",
    "df = pd.read_csv('creditcard.csv')\n",
    "x = df.drop(['Class'], axis=1).values.astype(np.float32)\n",
    "y = df['Class'].values.astype(np.int64)\n",
    "edge_index = torch.tensor([[], []], dtype=torch.long)"
   ]
  },
  {
   "cell_type": "code",
   "execution_count": 43,
   "id": "c46d102f",
   "metadata": {},
   "outputs": [],
   "source": [
    "# Create edges based on the distance between nodes\n",
    "# k = 5\n",
    "# distances = kneighbors_graph(x.numpy(), k, mode='distance', include_self=False)\n",
    "# edge_index = torch.tensor(distances.nonzero(), dtype=torch.long).t()\n",
    "# edge_attr = torch.tensor(distances.data, dtype=torch.float)\n",
    "# data = Data(x=x, y=y, edge_index=edge_index, edge_attr=edge_attr)\n",
    "\n",
    "\n",
    "# Create a PyTorch Geometric Data object\n",
    "data = Data(x=torch.tensor(x), y=torch.tensor(y.reshape(-1, 1)), edge_index=edge_index)"
   ]
  },
  {
   "cell_type": "code",
   "execution_count": 44,
   "id": "68a5e82d",
   "metadata": {},
   "outputs": [],
   "source": [
    "# Split the data into train and test sets\n",
    "train_mask = torch.zeros(data.num_nodes, dtype=torch.bool)\n",
    "train_mask[:int(0.8 * data.num_nodes)] = 1\n",
    "data.train_mask = train_mask\n",
    "\n",
    "test_mask = torch.zeros(data.num_nodes, dtype=torch.bool)\n",
    "test_mask[int(0.8 * data.num_nodes):] = 1\n",
    "data.test_mask = test_mask"
   ]
  },
  {
   "cell_type": "code",
   "execution_count": 46,
   "id": "07634c65",
   "metadata": {},
   "outputs": [],
   "source": [
    "# GNN model Definition\n",
    "class FraudGNN(torch.nn.Module):\n",
    "    def __init__(self, num_features):\n",
    "        super(FraudGNN, self).__init__()\n",
    "        self.conv1 = pyg_nn.GCNConv(num_features, 32)\n",
    "        self.conv2 = pyg_nn.GCNConv(32, 16)\n",
    "        self.conv3 = pyg_nn.GCNConv(16, 1)\n",
    "\n",
    "    def forward(self, x, edge_index):\n",
    "        x = F.relu(self.conv1(x, edge_index))\n",
    "        x = F.dropout(x, training=self.training)\n",
    "        x = F.relu(self.conv2(x, edge_index))\n",
    "        x = F.dropout(x, training=self.training)\n",
    "        x = self.conv3(x, edge_index)\n",
    "        x = torch.sigmoid(x)  # Added sigmoid activation\n",
    "        return x"
   ]
  },
  {
   "cell_type": "code",
   "execution_count": 47,
   "id": "afda84b7",
   "metadata": {},
   "outputs": [],
   "source": [
    "# Initialize the model and optimizer\n",
    "model = FraudGNN(num_features=data.num_features)\n",
    "optimizer = torch.optim.Adam(model.parameters(), lr=0.001)"
   ]
  },
  {
   "cell_type": "code",
   "execution_count": 48,
   "id": "8009f323",
   "metadata": {},
   "outputs": [],
   "source": [
    "# Train the model\n",
    "model.train()\n",
    "for epoch in range(200):\n",
    "    optimizer.zero_grad()\n",
    "    out = model(data.x, data.edge_index)\n",
    "    loss = F.binary_cross_entropy(out[data.train_mask], data.y[data.train_mask].float())\n",
    "    loss.backward()\n",
    "    optimizer.step()"
   ]
  },
  {
   "cell_type": "code",
   "execution_count": 49,
   "id": "04cd8ba8",
   "metadata": {},
   "outputs": [
    {
     "name": "stdout",
     "output_type": "stream",
     "text": [
      "Accuracy: 0.19973877046561356\n"
     ]
    }
   ],
   "source": [
    "# Evaluate the model\n",
    "model.eval()\n",
    "out = model(data.x, data.edge_index)\n",
    "pred = (out > 0.5).float()\n",
    "acc = (pred[data.test_mask] == data.y[data.test_mask].float()).sum().item() / len(data.test_mask)\n",
    "print('Accuracy:', acc)\n",
    "\n",
    "# for epoch in range(10):\n",
    "#     total_loss = 0\n",
    "#     for data in DataLoader(train_data, batch_size=64, shuffle=True):\n",
    "#         data = data.to(device)\n",
    "#         optimizer.zero_grad()\n",
    "#         output = model(data)\n",
    "#         loss = F.binary_cross_entropy_with_logits(output, data.y.view(-1, 1))\n",
    "#         loss.backward()\n",
    "#         optimizer.step()\n",
    "#         total_loss += loss.item() * data.num_graphs\n",
    "#     print(\"Epoch {} - Loss: {:.4f}\".format(epoch+1, total_loss/len(train_data)))"
   ]
  },
  {
   "cell_type": "code",
   "execution_count": null,
   "id": "11f0f009",
   "metadata": {},
   "outputs": [],
   "source": []
  }
 ],
 "metadata": {
  "kernelspec": {
   "display_name": "Python 3 (ipykernel)",
   "language": "python",
   "name": "python3"
  },
  "language_info": {
   "codemirror_mode": {
    "name": "ipython",
    "version": 3
   },
   "file_extension": ".py",
   "mimetype": "text/x-python",
   "name": "python",
   "nbconvert_exporter": "python",
   "pygments_lexer": "ipython3",
   "version": "3.9.7"
  }
 },
 "nbformat": 4,
 "nbformat_minor": 5
}
